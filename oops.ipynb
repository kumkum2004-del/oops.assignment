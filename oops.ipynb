{
  "nbformat": 4,
  "nbformat_minor": 0,
  "metadata": {
    "colab": {
      "provenance": []
    },
    "kernelspec": {
      "name": "python3",
      "display_name": "Python 3"
    },
    "language_info": {
      "name": "python"
    }
  },
  "cells": [
    {
      "cell_type": "code",
      "execution_count": null,
      "metadata": {
        "id": "qwLdIPptpjrV"
      },
      "outputs": [],
      "source": []
    },
    {
      "cell_type": "markdown",
      "source": [
        "#ques.1 What is Object-Oriented Programming (OOP).\n",
        "  - Object-Oriented Programming (OOP) is a programming paradigm based on the concept of \"objects\", which are instances of classes. These objects can contain data and functions that operate on that data.\n",
        "\n",
        "\n",
        "#ques.2 What is a class in OOP?\n",
        "  - A class in Object-Oriented Programming (OOP) is like a blueprint or template used to create objects.\n",
        "\n",
        "\n",
        "#ques.3 What is an object in OOP?\n",
        "  - A class is the blueprint, and an object is the real thing made using that blueprint.it is an realisation of the class.\n",
        "\n",
        "\n",
        "#ques. 4 What is the difference between abstraction and encapsulation?\n",
        "  - Abstraction\n",
        "    - Hiding the complex implementation details and showing only the important features.\n",
        "  -  Encapsulation\n",
        "    - Hiding the data inside the class and protecting it from outside access.\n",
        "\n",
        "\n",
        "# ques. 5 What are dunder methods in Python?\n",
        "  - Dunder methods in Python are special methods that start and end with double underscores, like __init__, __str__, __add__, etc.\n",
        "\n",
        "\n",
        "# ques. 6 Explain the concept of inheritance in OOPs.\n",
        "  - inheritance is the concept of inheriting the features,variable and functions of  a base class into derived class.\n",
        "\n",
        "# ques. 7  What is polymorphism in OOP?\n",
        "  - Polymorphism means “many forms.In OOP, it allows one function, method, or operator to behave differently depending on the object calling it.\n",
        "\n",
        "# ques. 8  How is encapsulation achieved in Python?\n",
        "  - Encapsulation means hiding the internal data of an object and controlling access to it.In Python, we achieve this using:\n",
        "    - Private attributes\n",
        "    - Getter and setter methods\n",
        "\n",
        "\n",
        "# ques. 9 What is a constructor in Python?\n",
        "  - A constructor is a special method in Python that automatically runs when you create an object from a class.\n",
        "\n",
        "\n",
        "# ques 10 What are class and static methods in Python?\n",
        "  -  Class Methods 👩‍🏫\n",
        "     - Declared using the @classmethod decorator.\n",
        "     - The first parameter is always cls, which refers to the class itself (not the instance).\n",
        "\n",
        "  - Static Methods 🧊\n",
        "      - Declared using the @staticmethod decorator.\n",
        "      - They do not take self or cls as the first argument.\n",
        "\n",
        "\n",
        "# ques. 11 What is method overloading in Python?\n",
        "  - Defining multiple methods with the same name but different number or type of parameters.\n",
        "\n",
        "# ques. 12 What is method overriding in OOP?\n",
        "  - When a child class provides its own version of a method that is already defined in its parent class.child class method overrides base class method.\n",
        "\n",
        "\n",
        "# ques. 13 What is a property decorator in Python?\n",
        "   - The @property decorator in Python is used to make a method act like an attribute.\n",
        "     - Call a method without parentheses.\n",
        "     - Use getter, setter, and deleter functionality.\n",
        "\n",
        "\n",
        "# ques. 14  Why is polymorphism important in OOP?\n",
        "   - Polymorphism means “many forms.You can write a single function that works with different types of objects, saving you from writing similar code again and again.\n",
        "\n",
        "\n",
        "# ques. 15 What is an abstract class in Python?\n",
        "  - An abstract class is like a blueprint for other classes.You can’t create objects from it directly, but you can inherit from it to build other classes.\n",
        "\n",
        "\n",
        "# ques. 16 What are the advantages of OOP?\n",
        "  - This makes it easy to find, fix, or update things without breaking the whole code.\n",
        "    -  Reusability\n",
        "    - Encapsulation\n",
        "    - abstraction\n",
        "    - inheritance\n",
        "\n",
        "\n",
        "# ques. 17  What is the difference between a class variable and an instance variable?\n",
        "  - Class Variable:\n",
        "     - Belongs to the class.\n",
        "     - Shared by all objects (instances) of the class.\n",
        "     - Defined inside the class, but outside any methods.\n",
        "\n",
        "  - Instance Variable:\n",
        "     - Belongs to each individual object.\n",
        "     - Unique for every object.\n",
        "     - Defined inside the __init__() method or other methods.\n",
        "\n",
        "\n",
        "# ques. 18 What is multiple inheritance in Python?\n",
        "  - It happens when a child class inherits from more than one parent class.\n",
        "\n",
        "\n",
        "# ques. 19 Explain the purpose of ‘’__str__’ and ‘__repr__’ ‘ methods in Python.\n",
        "  - __str__ Method:\n",
        "Purpose: It is used to define how an object should be represented as a string when you print or convert it to a string using str().\n",
        "  - __repr__:\n",
        "  __repr__ is meant to provide a more precise or technical string output, often used for debugging.\n",
        "\n",
        "\n",
        "# ques. 20  What is the significance of the ‘super()’ function in Python?\n",
        "  - The super() function is used to call methods from a parent (super) class. It's typically used in a class that inherits from another class, and you want to access or extend the behavior of the parent class.\n",
        "\n",
        "\n",
        "# ques 21 What is the significance of the __del__ method in Python?\n",
        "  - The __del__ method is called when an object is about to be destroyed.\n",
        "\n",
        "\n",
        "# ques 22  What is the difference between @staticmethod and @classmethod in Python?\n",
        "   -  Class Methods 👩‍🏫\n",
        "     - Declared using the @classmethod decorator.\n",
        "     - The first parameter is always cls, which refers to the class itself (not the instance).\n",
        "\n",
        "  - Static Methods 🧊\n",
        "      - Declared using the @staticmethod decorator.\n",
        "      - They do not take self or cls as the first argument.\n",
        "\n",
        "\n",
        "# ques 23 How does polymorphism work in Python with inheritance?\n",
        "  -  In polymorphism, child classes can override methods that are defined in the parent class. Even though the method has the same name.\n",
        "\n",
        "\n",
        "# ques. 24 What is method chaining in Python OOP?\n",
        "  - Method chaining is when you call one method, and then directly call another method on the same object without needing to repeat the object.\n",
        "\n",
        "\n",
        "#ques. 25 H What is the purpose of the __call__ method in Python?\n",
        "  - The __call__ method lets you use an object like a function.\n",
        "If you define a __call__ method inside a class, then you can \"call\" the object, and Python will automatically run that method."
      ],
      "metadata": {
        "id": "NX__GDklpv33"
      }
    },
    {
      "cell_type": "code",
      "source": [
        "''' ques.1  Create a parent class Animal with a method speak() that prints a generic message. Create a child class Dog\n",
        "    that overrides the speak() method to print \"Bark!\".'''\n",
        "class Animal:\n",
        "    def speak(self):\n",
        "        print(\"The animal makes a sound.\")\n",
        "\n",
        "# Child class\n",
        "class Dog(Animal):\n",
        "    def speak(self):\n",
        "        print(\"Bark!\")\n",
        "\n",
        "dog = Dog()\n",
        "dog.speak()"
      ],
      "metadata": {
        "colab": {
          "base_uri": "https://localhost:8080/"
        },
        "id": "IQSqqOjoPkBx",
        "outputId": "98df36db-ddb2-47f0-8c98-db8715949592"
      },
      "execution_count": 1,
      "outputs": [
        {
          "output_type": "stream",
          "name": "stdout",
          "text": [
            "Bark!\n"
          ]
        }
      ]
    },
    {
      "cell_type": "code",
      "source": [
        "''' ques.2  Write a program to create an abstract class Shape with a method area(). Derive classes Circle and Rectangle\n",
        "from it and implement the area() method in both.'''\n",
        "from abc import ABC, abstractmethod\n",
        "import math\n",
        "\n",
        "# Abstract class\n",
        "class Shape(ABC):\n",
        "\n",
        "    @abstractmethod\n",
        "    def area(self):\n",
        "        pass  # Abstract method with no implementation\n",
        "\n",
        "# Derived class: Circle\n",
        "class Circle(Shape):\n",
        "    def __init__(self, radius):\n",
        "        self.radius = radius\n",
        "\n",
        "    def area(self):\n",
        "        return math.pi * self.radius * self.radius\n",
        "\n",
        "# Derived class: Rectangle\n",
        "class Rectangle(Shape):\n",
        "    def __init__(self, length, width):\n",
        "        self.length = length\n",
        "        self.width = width\n",
        "\n",
        "    def area(self):\n",
        "        return self.length * self.width\n",
        "\n",
        "# Create objects and print area\n",
        "circle = Circle(5)\n",
        "rectangle = Rectangle(4, 6)\n",
        "circle.area()\n",
        "rectangle.area()"
      ],
      "metadata": {
        "colab": {
          "base_uri": "https://localhost:8080/"
        },
        "id": "ovrrQHnebvl-",
        "outputId": "57aade8c-a3e9-4769-bde1-d3a05201d885"
      },
      "execution_count": 3,
      "outputs": [
        {
          "output_type": "execute_result",
          "data": {
            "text/plain": [
              "24"
            ]
          },
          "metadata": {},
          "execution_count": 2
        },
        {
          "output_type": "execute_result",
          "data": {
            "text/plain": [
              "24"
            ]
          },
          "metadata": {},
          "execution_count": 3
        }
      ]
    },
    {
      "cell_type": "code",
      "source": [
        "'''ques.3  Implement a multi-level inheritance scenario where a class Vehicle has an attribute type. Derive a class Car\n",
        "and further derive a class ElectricCar that adds a battery attribute.'''\n",
        "class Vehicle:\n",
        "    def __init__(self, type):\n",
        "        self.type = type\n",
        "\n",
        "# First derived class\n",
        "class Car(Vehicle):\n",
        "    def __init__(self, type, brand):\n",
        "        super().__init__(type)  # Call the constructor of Vehicle\n",
        "        self.brand = brand\n",
        "\n",
        "# Second derived class\n",
        "class ElectricCar(Car):\n",
        "    def __init__(self, type, brand, battery):\n",
        "        super().__init__(type, brand)  # Call the constructor of Car\n",
        "        self.battery = battery"
      ],
      "metadata": {
        "id": "uvhHY4VweJwJ"
      },
      "execution_count": null,
      "outputs": []
    },
    {
      "cell_type": "code",
      "source": [
        "'''ques. 4  Demonstrate polymorphism by creating a base class Bird with a method fly(). Create two derived classes\n",
        "Sparrow and Penguin that override the fly() method.\n",
        "'''\n",
        "class Bird:\n",
        "    def fly(self):\n",
        "        print(\"Some bird is flying...\")\n",
        "\n",
        "# Derived class 1\n",
        "class Sparrow(Bird):\n",
        "    def fly(self):\n",
        "        print(\"Sparrow flies high in the sky!\")\n",
        "\n",
        "# Derived class 2\n",
        "class Penguin(Bird):\n",
        "    def fly(self):\n",
        "        print(\"Penguins cannot fly, they waddle!\")\n",
        "\n",
        "def show_flying_ability(bird):\n",
        "    bird.fly()\n",
        "\n",
        "# Create objects\n",
        "sparrow = Sparrow()\n",
        "penguin = Penguin()\n",
        "\n",
        "# Test polymorphism\n",
        "show_flying_ability(sparrow)\n",
        "show_flying_ability(penguin)"
      ],
      "metadata": {
        "id": "dxYUEpKJgBec"
      },
      "execution_count": null,
      "outputs": []
    },
    {
      "cell_type": "code",
      "source": [
        "'''ques.5 Write a program to demonstrate encapsulation by creating a class BankAccount with private attributes\n",
        "balance and methods to deposit, withdraw, and check balance.'''\n",
        "class BankAccount:\n",
        "    def __init__(self, initial_balance=0):\n",
        "        self.__balance = initial_balance  # Private attribute\n",
        "\n",
        "    # Method to deposit money\n",
        "    def deposit(self, amount):\n",
        "        if amount > 0:\n",
        "            self.__balance += amount\n",
        "            print(f\"Deposited ₹{amount}\")\n",
        "        else:\n",
        "            print(\"Deposit amount must be positive.\")\n",
        "\n",
        "    # Method to withdraw money\n",
        "    def withdraw(self, amount):\n",
        "        if 0 < amount <= self.__balance:\n",
        "            self.__balance -= amount\n",
        "            print(f\"Withdrew ₹{amount}\")\n",
        "        else:\n",
        "            print(\"Insufficient balance or invalid amount.\")\n",
        "\n",
        "    # Method to check balance\n",
        "    def check_balance(self):\n",
        "        print(f\"Current balance: ₹{self.__balance}\")"
      ],
      "metadata": {
        "id": "Chg7vmMKgBUg"
      },
      "execution_count": null,
      "outputs": []
    },
    {
      "cell_type": "code",
      "source": [
        "''' ques.6  Demonstrate runtime polymorphism using a method play() in a base class Instrument. Derive classes Guitar\n",
        "and Piano that implement their own version of play().'''\n",
        "class Instrument:\n",
        "    def play(self):\n",
        "        print(\"Playing some instrument...\")\n",
        "\n",
        "# Derived class: Guitar\n",
        "class Guitar(Instrument):\n",
        "    def play(self):\n",
        "        print(\"Strumming the guitar \")\n",
        "\n",
        "# Derived class: Piano\n",
        "class Piano(Instrument):\n",
        "    def play(self):\n",
        "        print(\"Playing the piano \")\n",
        "\n",
        "# Function to demonstrate runtime polymorphism\n",
        "def start_music(instrument):\n",
        "    instrument.play()\n",
        "g = Guitar()\n",
        "p = Piano()\n",
        "\n",
        "start_music(g)\n",
        "start_music(p)"
      ],
      "metadata": {
        "id": "cok8-Kd9gBQ7"
      },
      "execution_count": null,
      "outputs": []
    },
    {
      "cell_type": "code",
      "source": [
        "'''ques 7 Create a class MathOperations with a class method add_numbers() to add two numbers and a static\n",
        "method subtract_numbers() to subtract two numbers.'''\n",
        "class MathOperations:\n",
        "    # Class method\n",
        "    @classmethod\n",
        "    def add_numbers(cls, a, b):\n",
        "        return a + b\n",
        "\n",
        "    # Static method\n",
        "    @staticmethod\n",
        "    def subtract_numbers(a, b):\n",
        "        return a - b"
      ],
      "metadata": {
        "id": "GRxmS22YgBEX"
      },
      "execution_count": null,
      "outputs": []
    },
    {
      "cell_type": "code",
      "source": [
        "'''ques. 8 Implement a class Person with a class method to count the total number of persons created'''\n",
        "class Person:\n",
        "    count = 0  # Class variable to track number of persons\n",
        "\n",
        "    def __init__(self, name):\n",
        "        self.name = name\n",
        "        Person.count += 1  # Increase count every time a person is created\n",
        "\n",
        "    @classmethod\n",
        "    def total_persons(cls):\n",
        "        return cls.count"
      ],
      "metadata": {
        "id": "N7zvhLHvj7L9"
      },
      "execution_count": null,
      "outputs": []
    },
    {
      "cell_type": "code",
      "source": [
        "'''ques. 9  Write a class Fraction with attributes numerator and denominator. Override the str method to display the\n",
        "fraction as \"numerator/denominator\".'''\n",
        "class Fraction:\n",
        "    def __init__(self, numerator, denominator):\n",
        "        self.numerator = numerator\n",
        "        self.denominator = denominator\n",
        "\n",
        "    def __str__(self):\n",
        "        return f\"{self.numerator}/{self.denominator}\"\n",
        "\n",
        "f1 = Fraction(3, 4)\n",
        "print(f1)"
      ],
      "metadata": {
        "colab": {
          "base_uri": "https://localhost:8080/"
        },
        "id": "UEEmkaKJj7IX",
        "outputId": "d6850705-9534-4a24-9468-cf8f17389577"
      },
      "execution_count": 4,
      "outputs": [
        {
          "output_type": "stream",
          "name": "stdout",
          "text": [
            "3/4\n"
          ]
        }
      ]
    },
    {
      "cell_type": "code",
      "source": [
        "'''ques. 10  Demonstrate operator overloading by creating a class Vector and overriding the add method to add two\n",
        "vectors'''\n",
        "class Vector:\n",
        "    def __init__(self, x, y):\n",
        "        self.x = x\n",
        "        self.y = y\n",
        "\n",
        "    def __add__(self, other):\n",
        "        return Vector(self.x + other.x, self.y + other.y)\n",
        "\n",
        "    def __str__(self):\n",
        "        return f\"{self.x}, {self.y}\"\n",
        "\n",
        "# Example\n",
        "v1 = Vector(1, 2)\n",
        "v2 = Vector(3, 4)\n",
        "v3 = v1 + v2"
      ],
      "metadata": {
        "id": "2DqyJxpVj7Fn"
      },
      "execution_count": null,
      "outputs": []
    },
    {
      "cell_type": "code",
      "source": [
        "'''ques.11 Create a class Person with attributes name and age. Add a method greet() that prints \"Hello, my name is\n",
        "{name} and I am {age} years old.\"'''\n",
        "class Person:\n",
        "    def __init__(self, name, age):\n",
        "        self.name = name\n",
        "        self.age = age\n",
        "\n",
        "    def greet(self):\n",
        "        print(f\"Hello, my name is {self.name} and I am {self.age} years old.\")"
      ],
      "metadata": {
        "id": "Oc2nhJMBj7Cm"
      },
      "execution_count": null,
      "outputs": []
    },
    {
      "cell_type": "code",
      "source": [
        "'''ques.12  Implement a class Student with attributes name and grades. Create a method average_grade() to compute\n",
        "the average of the grades.'''\n",
        "class Student:\n",
        "    def __init__(self, name, grades):\n",
        "        self.name = name\n",
        "        self.grades = grades\n",
        "\n",
        "    def average_grade(self):\n",
        "        return sum(self.grades) / len(self.grades)"
      ],
      "metadata": {
        "id": "pCHtyTz_j6_c"
      },
      "execution_count": null,
      "outputs": []
    },
    {
      "cell_type": "code",
      "source": [
        "'''ques.13 Create a class Rectangle with methods set_dimensions() to set the dimensions and area() to calculate the area.'''\n",
        "class Rectangle:\n",
        "    def __init__(self):\n",
        "        self.length = 0\n",
        "        self.width = 0\n",
        "\n",
        "    # Method to set the dimensions of the rectangle\n",
        "    def set_dimensions(self, length, width):\n",
        "        self.length = length\n",
        "        self.width = width\n",
        "\n",
        "    # Method to calculate the area of the rectangle\n",
        "    def area(self):\n",
        "        return self.length * self.width"
      ],
      "metadata": {
        "id": "J037fFQ_j68E"
      },
      "execution_count": null,
      "outputs": []
    },
    {
      "cell_type": "code",
      "source": [
        "'''ques.14  Create a class Employee with a method calculate_salary() that computes the salary based on hours worked\n",
        "and hourly rate. Create a derived class Manager that adds a bonus to the salary.'''\n",
        "class Employee:\n",
        "    def __init__(self, name, hours_worked, hourly_rate):\n",
        "        self.name = name\n",
        "        self.hours_worked = hours_worked\n",
        "        self.hourly_rate = hourly_rate\n",
        "\n",
        "    def calculate_salary(self):\n",
        "        return self.hours_worked * self.hourly_rate\n",
        "\n",
        "# Derived class Manager\n",
        "class Manager(Employee):\n",
        "    def __init__(self, name, hours_worked, hourly_rate, bonus):\n",
        "        super().__init__(name, hours_worked, hourly_rate)\n",
        "        self.bonus = bonus\n",
        "\n",
        "    # Override the calculate_salary method to include bonus\n",
        "    def calculate_salary(self):\n",
        "        base_salary = super().calculate_salary()\n",
        "        return base_salary + self.bonus"
      ],
      "metadata": {
        "id": "7lBx3CwZj6vQ"
      },
      "execution_count": null,
      "outputs": []
    },
    {
      "cell_type": "code",
      "source": [
        "''' ques 15. Create a class Product with attributes name, price, and quantity. Implement a method total_price() that\n",
        "calculates the total price of the product.'''\n",
        "class Product:\n",
        "    def __init__(self, name, price, quantity):\n",
        "        self.name = name\n",
        "        self.price = price\n",
        "        self.quantity = quantity\n",
        "\n",
        "    # Method to calculate the total price\n",
        "    def total_price(self):\n",
        "        return self.price * self.quantity"
      ],
      "metadata": {
        "id": "bFeAWsPPqNyb"
      },
      "execution_count": null,
      "outputs": []
    },
    {
      "cell_type": "code",
      "source": [
        "''' ques 16.  Create a class Animal with an abstract method sound(). Create two derived classes Cow and Sheep that\n",
        "implement the sound() method.'''\n",
        "from abc import ABC, abstractmethod\n",
        "\n",
        "# Abstract class Animal\n",
        "class Animal(ABC):\n",
        "    @abstractmethod\n",
        "    def sound(self):\n",
        "        pass\n",
        "\n",
        "# Derived class Cow\n",
        "class Cow(Animal):\n",
        "    def sound(self):\n",
        "        print(\"Moo!\")\n",
        "\n",
        "# Derived class Sheep\n",
        "class Sheep(Animal):\n",
        "    def sound(self):\n",
        "        print(\"Baa!\")"
      ],
      "metadata": {
        "id": "ThzGeZb3qNoF"
      },
      "execution_count": null,
      "outputs": []
    },
    {
      "cell_type": "code",
      "source": [
        "''' ques. 17. Create a class Book with attributes title, author, and year_published. Add a method get_book_info() that\n",
        "returns a formatted string with the book's details'''\n",
        "class Book:\n",
        "    def __init__(self, title, author, year_published):\n",
        "        self.title = title\n",
        "        self.author = author\n",
        "        self.year_published = year_published\n",
        "\n",
        "    # Method to return book details in a formatted string\n",
        "    def get_book_info(self):\n",
        "        return f\"'{self.title}' by {self.author}, published in {self.year_published}\""
      ],
      "metadata": {
        "id": "O0HpmfomqNeJ"
      },
      "execution_count": null,
      "outputs": []
    },
    {
      "cell_type": "code",
      "source": [
        "'''ques. 18 Create a class House with attributes address and price. Create a derived class Mansion that adds an\n",
        "attribute number_of_rooms.'''\n",
        "class House:\n",
        "    def __init__(self, address, price):\n",
        "        self.address = address\n",
        "        self.price = price\n",
        "\n",
        "# Derived class Mansion\n",
        "class Mansion(House):\n",
        "    def __init__(self, address, price, number_of_rooms):\n",
        "        super().__init__(address, price)\n",
        "        self.number_of_rooms = number_of_rooms\n",
        "\n",
        "    def display_info(self):\n",
        "        return f\"Mansion located at {self.address}, priced at {self.price}, with {self.number_of_rooms} rooms.\""
      ],
      "metadata": {
        "id": "UWlJVYxlqNS_"
      },
      "execution_count": null,
      "outputs": []
    }
  ]
}